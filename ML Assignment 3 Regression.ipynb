{
 "cells": [
  {
   "cell_type": "markdown",
   "id": "68020160-4025-4412-acdf-59cc2699bec9",
   "metadata": {},
   "source": [
    "# 1. Loading and Preprocessing"
   ]
  },
  {
   "cell_type": "code",
   "execution_count": 3,
   "id": "72d42a50-bc3c-4295-81da-a44c2e0b6207",
   "metadata": {},
   "outputs": [],
   "source": [
    "import numpy as np\n",
    "import pandas as pd\n",
    "import matplotlib.pyplot as plt\n",
    "import seaborn as sns\n",
    "from sklearn.model_selection import train_test_split\n",
    "from sklearn.preprocessing import StandardScaler\n",
    "from sklearn.linear_model import LinearRegression\n",
    "from sklearn.tree import DecisionTreeRegressor\n",
    "from sklearn.ensemble import RandomForestRegressor, GradientBoostingRegressor\n",
    "from sklearn.metrics import mean_squared_error, mean_absolute_error, r2_score"
   ]
  },
  {
   "cell_type": "code",
   "execution_count": 5,
   "id": "89fab209-c17f-4d97-a0e0-cf441aa0f1eb",
   "metadata": {},
   "outputs": [],
   "source": [
    "from sklearn.datasets import fetch_california_housing as df"
   ]
  },
  {
   "cell_type": "code",
   "execution_count": 7,
   "id": "db430a78-7369-402a-a85a-0234b777de77",
   "metadata": {},
   "outputs": [],
   "source": [
    "housing = df()"
   ]
  },
  {
   "cell_type": "code",
   "execution_count": 9,
   "id": "0a26e626-dea6-4a1b-b8dd-04eeffd85702",
   "metadata": {},
   "outputs": [],
   "source": [
    "housing_data = pd.DataFrame(housing.data, columns=housing.feature_names)\n",
    "housing_data['Target'] = housing.target"
   ]
  },
  {
   "cell_type": "code",
   "execution_count": 11,
   "id": "13c689c4-8f86-44c3-a247-3f39ba408874",
   "metadata": {},
   "outputs": [
    {
     "data": {
      "text/html": [
       "<div>\n",
       "<style scoped>\n",
       "    .dataframe tbody tr th:only-of-type {\n",
       "        vertical-align: middle;\n",
       "    }\n",
       "\n",
       "    .dataframe tbody tr th {\n",
       "        vertical-align: top;\n",
       "    }\n",
       "\n",
       "    .dataframe thead th {\n",
       "        text-align: right;\n",
       "    }\n",
       "</style>\n",
       "<table border=\"1\" class=\"dataframe\">\n",
       "  <thead>\n",
       "    <tr style=\"text-align: right;\">\n",
       "      <th></th>\n",
       "      <th>MedInc</th>\n",
       "      <th>HouseAge</th>\n",
       "      <th>AveRooms</th>\n",
       "      <th>AveBedrms</th>\n",
       "      <th>Population</th>\n",
       "      <th>AveOccup</th>\n",
       "      <th>Latitude</th>\n",
       "      <th>Longitude</th>\n",
       "      <th>Target</th>\n",
       "    </tr>\n",
       "  </thead>\n",
       "  <tbody>\n",
       "    <tr>\n",
       "      <th>0</th>\n",
       "      <td>8.3252</td>\n",
       "      <td>41.0</td>\n",
       "      <td>6.984127</td>\n",
       "      <td>1.023810</td>\n",
       "      <td>322.0</td>\n",
       "      <td>2.555556</td>\n",
       "      <td>37.88</td>\n",
       "      <td>-122.23</td>\n",
       "      <td>4.526</td>\n",
       "    </tr>\n",
       "    <tr>\n",
       "      <th>1</th>\n",
       "      <td>8.3014</td>\n",
       "      <td>21.0</td>\n",
       "      <td>6.238137</td>\n",
       "      <td>0.971880</td>\n",
       "      <td>2401.0</td>\n",
       "      <td>2.109842</td>\n",
       "      <td>37.86</td>\n",
       "      <td>-122.22</td>\n",
       "      <td>3.585</td>\n",
       "    </tr>\n",
       "    <tr>\n",
       "      <th>2</th>\n",
       "      <td>7.2574</td>\n",
       "      <td>52.0</td>\n",
       "      <td>8.288136</td>\n",
       "      <td>1.073446</td>\n",
       "      <td>496.0</td>\n",
       "      <td>2.802260</td>\n",
       "      <td>37.85</td>\n",
       "      <td>-122.24</td>\n",
       "      <td>3.521</td>\n",
       "    </tr>\n",
       "    <tr>\n",
       "      <th>3</th>\n",
       "      <td>5.6431</td>\n",
       "      <td>52.0</td>\n",
       "      <td>5.817352</td>\n",
       "      <td>1.073059</td>\n",
       "      <td>558.0</td>\n",
       "      <td>2.547945</td>\n",
       "      <td>37.85</td>\n",
       "      <td>-122.25</td>\n",
       "      <td>3.413</td>\n",
       "    </tr>\n",
       "    <tr>\n",
       "      <th>4</th>\n",
       "      <td>3.8462</td>\n",
       "      <td>52.0</td>\n",
       "      <td>6.281853</td>\n",
       "      <td>1.081081</td>\n",
       "      <td>565.0</td>\n",
       "      <td>2.181467</td>\n",
       "      <td>37.85</td>\n",
       "      <td>-122.25</td>\n",
       "      <td>3.422</td>\n",
       "    </tr>\n",
       "    <tr>\n",
       "      <th>...</th>\n",
       "      <td>...</td>\n",
       "      <td>...</td>\n",
       "      <td>...</td>\n",
       "      <td>...</td>\n",
       "      <td>...</td>\n",
       "      <td>...</td>\n",
       "      <td>...</td>\n",
       "      <td>...</td>\n",
       "      <td>...</td>\n",
       "    </tr>\n",
       "    <tr>\n",
       "      <th>20635</th>\n",
       "      <td>1.5603</td>\n",
       "      <td>25.0</td>\n",
       "      <td>5.045455</td>\n",
       "      <td>1.133333</td>\n",
       "      <td>845.0</td>\n",
       "      <td>2.560606</td>\n",
       "      <td>39.48</td>\n",
       "      <td>-121.09</td>\n",
       "      <td>0.781</td>\n",
       "    </tr>\n",
       "    <tr>\n",
       "      <th>20636</th>\n",
       "      <td>2.5568</td>\n",
       "      <td>18.0</td>\n",
       "      <td>6.114035</td>\n",
       "      <td>1.315789</td>\n",
       "      <td>356.0</td>\n",
       "      <td>3.122807</td>\n",
       "      <td>39.49</td>\n",
       "      <td>-121.21</td>\n",
       "      <td>0.771</td>\n",
       "    </tr>\n",
       "    <tr>\n",
       "      <th>20637</th>\n",
       "      <td>1.7000</td>\n",
       "      <td>17.0</td>\n",
       "      <td>5.205543</td>\n",
       "      <td>1.120092</td>\n",
       "      <td>1007.0</td>\n",
       "      <td>2.325635</td>\n",
       "      <td>39.43</td>\n",
       "      <td>-121.22</td>\n",
       "      <td>0.923</td>\n",
       "    </tr>\n",
       "    <tr>\n",
       "      <th>20638</th>\n",
       "      <td>1.8672</td>\n",
       "      <td>18.0</td>\n",
       "      <td>5.329513</td>\n",
       "      <td>1.171920</td>\n",
       "      <td>741.0</td>\n",
       "      <td>2.123209</td>\n",
       "      <td>39.43</td>\n",
       "      <td>-121.32</td>\n",
       "      <td>0.847</td>\n",
       "    </tr>\n",
       "    <tr>\n",
       "      <th>20639</th>\n",
       "      <td>2.3886</td>\n",
       "      <td>16.0</td>\n",
       "      <td>5.254717</td>\n",
       "      <td>1.162264</td>\n",
       "      <td>1387.0</td>\n",
       "      <td>2.616981</td>\n",
       "      <td>39.37</td>\n",
       "      <td>-121.24</td>\n",
       "      <td>0.894</td>\n",
       "    </tr>\n",
       "  </tbody>\n",
       "</table>\n",
       "<p>20640 rows × 9 columns</p>\n",
       "</div>"
      ],
      "text/plain": [
       "       MedInc  HouseAge  AveRooms  AveBedrms  Population  AveOccup  Latitude  \\\n",
       "0      8.3252      41.0  6.984127   1.023810       322.0  2.555556     37.88   \n",
       "1      8.3014      21.0  6.238137   0.971880      2401.0  2.109842     37.86   \n",
       "2      7.2574      52.0  8.288136   1.073446       496.0  2.802260     37.85   \n",
       "3      5.6431      52.0  5.817352   1.073059       558.0  2.547945     37.85   \n",
       "4      3.8462      52.0  6.281853   1.081081       565.0  2.181467     37.85   \n",
       "...       ...       ...       ...        ...         ...       ...       ...   \n",
       "20635  1.5603      25.0  5.045455   1.133333       845.0  2.560606     39.48   \n",
       "20636  2.5568      18.0  6.114035   1.315789       356.0  3.122807     39.49   \n",
       "20637  1.7000      17.0  5.205543   1.120092      1007.0  2.325635     39.43   \n",
       "20638  1.8672      18.0  5.329513   1.171920       741.0  2.123209     39.43   \n",
       "20639  2.3886      16.0  5.254717   1.162264      1387.0  2.616981     39.37   \n",
       "\n",
       "       Longitude  Target  \n",
       "0        -122.23   4.526  \n",
       "1        -122.22   3.585  \n",
       "2        -122.24   3.521  \n",
       "3        -122.25   3.413  \n",
       "4        -122.25   3.422  \n",
       "...          ...     ...  \n",
       "20635    -121.09   0.781  \n",
       "20636    -121.21   0.771  \n",
       "20637    -121.22   0.923  \n",
       "20638    -121.32   0.847  \n",
       "20639    -121.24   0.894  \n",
       "\n",
       "[20640 rows x 9 columns]"
      ]
     },
     "execution_count": 11,
     "metadata": {},
     "output_type": "execute_result"
    }
   ],
   "source": [
    "housing_data"
   ]
  },
  {
   "cell_type": "code",
   "execution_count": 13,
   "id": "9d501908-add7-45f4-9ad2-3a06e53f9b03",
   "metadata": {},
   "outputs": [],
   "source": [
    "df = housing_data"
   ]
  },
  {
   "cell_type": "code",
   "execution_count": 15,
   "id": "e13cf0f9-b2c7-440e-8909-53f958363f1c",
   "metadata": {},
   "outputs": [
    {
     "data": {
      "text/plain": [
       "MedInc        0\n",
       "HouseAge      0\n",
       "AveRooms      0\n",
       "AveBedrms     0\n",
       "Population    0\n",
       "AveOccup      0\n",
       "Latitude      0\n",
       "Longitude     0\n",
       "Target        0\n",
       "dtype: int64"
      ]
     },
     "execution_count": 15,
     "metadata": {},
     "output_type": "execute_result"
    }
   ],
   "source": [
    "df.isnull().sum() # there is no missing values so we dont need to do any imputation"
   ]
  },
  {
   "cell_type": "code",
   "execution_count": 17,
   "id": "d5c2e898-c1d2-47b3-b8ec-4c3f2ccc4b8c",
   "metadata": {},
   "outputs": [
    {
     "data": {
      "text/html": [
       "<div>\n",
       "<style scoped>\n",
       "    .dataframe tbody tr th:only-of-type {\n",
       "        vertical-align: middle;\n",
       "    }\n",
       "\n",
       "    .dataframe tbody tr th {\n",
       "        vertical-align: top;\n",
       "    }\n",
       "\n",
       "    .dataframe thead th {\n",
       "        text-align: right;\n",
       "    }\n",
       "</style>\n",
       "<table border=\"1\" class=\"dataframe\">\n",
       "  <thead>\n",
       "    <tr style=\"text-align: right;\">\n",
       "      <th></th>\n",
       "      <th>MedInc</th>\n",
       "      <th>HouseAge</th>\n",
       "      <th>AveRooms</th>\n",
       "      <th>AveBedrms</th>\n",
       "      <th>Population</th>\n",
       "      <th>AveOccup</th>\n",
       "      <th>Latitude</th>\n",
       "      <th>Longitude</th>\n",
       "      <th>Target</th>\n",
       "    </tr>\n",
       "  </thead>\n",
       "  <tbody>\n",
       "    <tr>\n",
       "      <th>count</th>\n",
       "      <td>20640.000000</td>\n",
       "      <td>20640.000000</td>\n",
       "      <td>20640.000000</td>\n",
       "      <td>20640.000000</td>\n",
       "      <td>20640.000000</td>\n",
       "      <td>20640.000000</td>\n",
       "      <td>20640.000000</td>\n",
       "      <td>20640.000000</td>\n",
       "      <td>20640.000000</td>\n",
       "    </tr>\n",
       "    <tr>\n",
       "      <th>mean</th>\n",
       "      <td>3.870671</td>\n",
       "      <td>28.639486</td>\n",
       "      <td>5.429000</td>\n",
       "      <td>1.096675</td>\n",
       "      <td>1425.476744</td>\n",
       "      <td>3.070655</td>\n",
       "      <td>35.631861</td>\n",
       "      <td>-119.569704</td>\n",
       "      <td>2.068558</td>\n",
       "    </tr>\n",
       "    <tr>\n",
       "      <th>std</th>\n",
       "      <td>1.899822</td>\n",
       "      <td>12.585558</td>\n",
       "      <td>2.474173</td>\n",
       "      <td>0.473911</td>\n",
       "      <td>1132.462122</td>\n",
       "      <td>10.386050</td>\n",
       "      <td>2.135952</td>\n",
       "      <td>2.003532</td>\n",
       "      <td>1.153956</td>\n",
       "    </tr>\n",
       "    <tr>\n",
       "      <th>min</th>\n",
       "      <td>0.499900</td>\n",
       "      <td>1.000000</td>\n",
       "      <td>0.846154</td>\n",
       "      <td>0.333333</td>\n",
       "      <td>3.000000</td>\n",
       "      <td>0.692308</td>\n",
       "      <td>32.540000</td>\n",
       "      <td>-124.350000</td>\n",
       "      <td>0.149990</td>\n",
       "    </tr>\n",
       "    <tr>\n",
       "      <th>25%</th>\n",
       "      <td>2.563400</td>\n",
       "      <td>18.000000</td>\n",
       "      <td>4.440716</td>\n",
       "      <td>1.006079</td>\n",
       "      <td>787.000000</td>\n",
       "      <td>2.429741</td>\n",
       "      <td>33.930000</td>\n",
       "      <td>-121.800000</td>\n",
       "      <td>1.196000</td>\n",
       "    </tr>\n",
       "    <tr>\n",
       "      <th>50%</th>\n",
       "      <td>3.534800</td>\n",
       "      <td>29.000000</td>\n",
       "      <td>5.229129</td>\n",
       "      <td>1.048780</td>\n",
       "      <td>1166.000000</td>\n",
       "      <td>2.818116</td>\n",
       "      <td>34.260000</td>\n",
       "      <td>-118.490000</td>\n",
       "      <td>1.797000</td>\n",
       "    </tr>\n",
       "    <tr>\n",
       "      <th>75%</th>\n",
       "      <td>4.743250</td>\n",
       "      <td>37.000000</td>\n",
       "      <td>6.052381</td>\n",
       "      <td>1.099526</td>\n",
       "      <td>1725.000000</td>\n",
       "      <td>3.282261</td>\n",
       "      <td>37.710000</td>\n",
       "      <td>-118.010000</td>\n",
       "      <td>2.647250</td>\n",
       "    </tr>\n",
       "    <tr>\n",
       "      <th>max</th>\n",
       "      <td>15.000100</td>\n",
       "      <td>52.000000</td>\n",
       "      <td>141.909091</td>\n",
       "      <td>34.066667</td>\n",
       "      <td>35682.000000</td>\n",
       "      <td>1243.333333</td>\n",
       "      <td>41.950000</td>\n",
       "      <td>-114.310000</td>\n",
       "      <td>5.000010</td>\n",
       "    </tr>\n",
       "  </tbody>\n",
       "</table>\n",
       "</div>"
      ],
      "text/plain": [
       "             MedInc      HouseAge      AveRooms     AveBedrms    Population  \\\n",
       "count  20640.000000  20640.000000  20640.000000  20640.000000  20640.000000   \n",
       "mean       3.870671     28.639486      5.429000      1.096675   1425.476744   \n",
       "std        1.899822     12.585558      2.474173      0.473911   1132.462122   \n",
       "min        0.499900      1.000000      0.846154      0.333333      3.000000   \n",
       "25%        2.563400     18.000000      4.440716      1.006079    787.000000   \n",
       "50%        3.534800     29.000000      5.229129      1.048780   1166.000000   \n",
       "75%        4.743250     37.000000      6.052381      1.099526   1725.000000   \n",
       "max       15.000100     52.000000    141.909091     34.066667  35682.000000   \n",
       "\n",
       "           AveOccup      Latitude     Longitude        Target  \n",
       "count  20640.000000  20640.000000  20640.000000  20640.000000  \n",
       "mean       3.070655     35.631861   -119.569704      2.068558  \n",
       "std       10.386050      2.135952      2.003532      1.153956  \n",
       "min        0.692308     32.540000   -124.350000      0.149990  \n",
       "25%        2.429741     33.930000   -121.800000      1.196000  \n",
       "50%        2.818116     34.260000   -118.490000      1.797000  \n",
       "75%        3.282261     37.710000   -118.010000      2.647250  \n",
       "max     1243.333333     41.950000   -114.310000      5.000010  "
      ]
     },
     "execution_count": 17,
     "metadata": {},
     "output_type": "execute_result"
    }
   ],
   "source": [
    "df.describe()"
   ]
  },
  {
   "cell_type": "code",
   "execution_count": 19,
   "id": "2bec9030-766e-4a2b-8756-b56b566a6cca",
   "metadata": {},
   "outputs": [],
   "source": [
    "X = df.drop(columns=['Target'])\n",
    "y = df['Target']"
   ]
  },
  {
   "cell_type": "code",
   "execution_count": 21,
   "id": "b1f6e98f-f0e8-4f83-a8da-126fa612425b",
   "metadata": {},
   "outputs": [],
   "source": [
    "scaler = StandardScaler()\n",
    "X_scaled = scaler.fit_transform(X)"
   ]
  },
  {
   "cell_type": "code",
   "execution_count": 23,
   "id": "84af4a88-8e4c-4da3-b36a-f822f51af5ac",
   "metadata": {},
   "outputs": [],
   "source": [
    "X_scaled_df = pd.DataFrame(X_scaled, columns=X.columns)\n",
    "# all columns is standardized to bring them into a common scale"
   ]
  },
  {
   "cell_type": "markdown",
   "id": "ed284b05-4a12-430a-98af-e28de00266c8",
   "metadata": {},
   "source": [
    "# 2. Regression Algorithm Implementation"
   ]
  },
  {
   "cell_type": "code",
   "execution_count": 55,
   "id": "e25e220e-cdde-490b-b96e-b5de869ec9c9",
   "metadata": {},
   "outputs": [],
   "source": [
    "# Linear Regression - helps assess the overall trend in the data.\n",
    "l=LinearRegression()\n",
    "l.fit(X_scaled, y)\n",
    "y_pred_l = l.predict(X_scaled)\n",
    "r2_l= r2_score(y, y_pred_l)\n",
    "rmse_l= mean_squared_error(y, y_pred_l, squared=False)"
   ]
  },
  {
   "cell_type": "code",
   "execution_count": 59,
   "id": "0e2def04-7ae1-4c3a-986e-60bb57267a20",
   "metadata": {},
   "outputs": [],
   "source": [
    "# Decision Tree Regressor - captures non-linear relationships and automatically selects important features without requiring scaling\n",
    "dt = DecisionTreeRegressor(random_state=0)\n",
    "dt.fit(X_scaled, y)\n",
    "y_pred_dt = dt.predict(X_scaled)\n",
    "r2_dt = r2_score(y, y_pred_dt)\n",
    "rmse_dt = mean_squared_error(y, y_pred_dt, squared=False)"
   ]
  },
  {
   "cell_type": "code",
   "execution_count": null,
   "id": "9edaaadd-3ff2-4d47-b574-15aeab7524bf",
   "metadata": {},
   "outputs": [],
   "source": [
    "# Random Forest Regressor - improves prediction accuracy by combining multiple decision trees and reducing overfitting.\n",
    "rf = RandomForestRegressor(n_estimators=100, random_state=0)\n",
    "rf.fit(X_scaled, y)\n",
    "y_pred_rf = rf.predict(X_scaled)\n",
    "r2_rf = r2_score(y, y_pred_rf)\n",
    "rmse_rf = mean_squared_error(y, y_pred_rf, squared=False)"
   ]
  },
  {
   "cell_type": "code",
   "execution_count": 31,
   "id": "d8712406-3b10-4a37-9846-e0ea025ca2ec",
   "metadata": {},
   "outputs": [],
   "source": [
    "# Gradient Boosting Regressor # helpfull for predicting housing prices due to its ability to minimize errors iteratively.\n",
    "gbr = GradientBoostingRegressor(n_estimators=100, learning_rate=0.1, random_state=0)\n",
    "gbr.fit(X_scaled, y)\n",
    "y_pred_gbr = gbr.predict(X_scaled)\n",
    "r2_gbr = r2_score(y, y_pred_gbr)\n",
    "rmse_gbr = mean_squared_error(y, y_pred_gbr, squared=False)"
   ]
  },
  {
   "cell_type": "markdown",
   "id": "45ca0549-f445-4206-97d8-e14098de7198",
   "metadata": {},
   "source": [
    "# 3. Model Evaluation and Comparison"
   ]
  },
  {
   "cell_type": "code",
   "execution_count": 39,
   "id": "c743ac22-efd4-496a-9fae-9442ad7587ce",
   "metadata": {},
   "outputs": [],
   "source": [
    "# Linear Regression\n",
    "y_pred_l = l.predict(X_scaled)\n",
    "mse_l = mean_squared_error(y, y_pred_l)\n",
    "mae_l = mean_absolute_error(y, y_pred_l)\n",
    "r2_l = r2_score(y, y_pred_l)"
   ]
  },
  {
   "cell_type": "code",
   "execution_count": 41,
   "id": "2d13de04-9354-4bf7-ba5f-1ab132613e02",
   "metadata": {},
   "outputs": [],
   "source": [
    "# Decision Tree\n",
    "y_pred_dt = dt.predict(X_scaled)\n",
    "mse_dt = mean_squared_error(y, y_pred_dt)\n",
    "mae_dt = mean_absolute_error(y, y_pred_dt)\n",
    "r2_dt = r2_score(y, y_pred_dt)"
   ]
  },
  {
   "cell_type": "code",
   "execution_count": 43,
   "id": "8d33b4d4-121d-43e0-83bb-b8eb69915233",
   "metadata": {},
   "outputs": [],
   "source": [
    "# Random Forest\n",
    "y_pred_rf = rf.predict(X_scaled)\n",
    "mse_rf = mean_squared_error(y, y_pred_rf)\n",
    "mae_rf = mean_absolute_error(y, y_pred_rf)\n",
    "r2_rf = r2_score(y, y_pred_rf)"
   ]
  },
  {
   "cell_type": "code",
   "execution_count": 45,
   "id": "b0505254-0135-41d6-bf73-fb5d7414ed95",
   "metadata": {},
   "outputs": [],
   "source": [
    "# Gradient Boosting\n",
    "y_pred_gbr = gbr.predict(X_scaled)\n",
    "mse_gbr = mean_squared_error(y, y_pred_gbr)\n",
    "mae_gbr = mean_absolute_error(y, y_pred_gbr)\n",
    "r2_gbr = r2_score(y, y_pred_gbr)"
   ]
  },
  {
   "cell_type": "code",
   "execution_count": 47,
   "id": "56bf2e03-1ff1-48f0-b17c-aa4b478310be",
   "metadata": {},
   "outputs": [],
   "source": [
    "results = {\n",
    "    \"Linear Regression\": [mse_l, mae_l, r2_l],\n",
    "    \"Decision Tree\": [mse_dt, mae_dt, r2_dt],\n",
    "    \"Random Forest\": [mse_rf, mae_rf, r2_rf],\n",
    "    \"Gradient Boosting\": [mse_gbr, mae_gbr, r2_gbr]\n",
    "}"
   ]
  },
  {
   "cell_type": "code",
   "execution_count": 49,
   "id": "56a7d8be-6afe-4cb2-83a7-59197b902165",
   "metadata": {},
   "outputs": [
    {
     "name": "stdout",
     "output_type": "stream",
     "text": [
      "Model               MSE            MAE            R² Score\n",
      "------------------------------------------------------------\n",
      "Linear Regression   0.5243         0.5312         0.6062\n",
      "Decision Tree       0.0000         0.0000         1.0000\n",
      "Random Forest       0.0347         0.1198         0.9739\n",
      "Gradient Boosting   0.2619         0.3562         0.8033\n"
     ]
    }
   ],
   "source": [
    "print(f\"{'Model':<20}{'MSE':<15}{'MAE':<15}{'R² Score'}\")\n",
    "print(\"-\" * 60)\n",
    "for model, metrics in results.items():\n",
    "    print(f\"{model:<20}{metrics[0]:<15.4f}{metrics[1]:<15.4f}{metrics[2]:.4f}\")"
   ]
  },
  {
   "cell_type": "code",
   "execution_count": 51,
   "id": "5a552fd5-d7fe-412f-8c36-be07d9b34295",
   "metadata": {},
   "outputs": [],
   "source": [
    "# Best Performer - Decision Tree\n",
    "# Worst Performer - Linear Regression"
   ]
  },
  {
   "cell_type": "code",
   "execution_count": null,
   "id": "a162eb6c-29d2-43fd-a254-90d75f7d3dfd",
   "metadata": {},
   "outputs": [],
   "source": []
  }
 ],
 "metadata": {
  "kernelspec": {
   "display_name": "Python [conda env:base] *",
   "language": "python",
   "name": "conda-base-py"
  },
  "language_info": {
   "codemirror_mode": {
    "name": "ipython",
    "version": 3
   },
   "file_extension": ".py",
   "mimetype": "text/x-python",
   "name": "python",
   "nbconvert_exporter": "python",
   "pygments_lexer": "ipython3",
   "version": "3.11.5"
  }
 },
 "nbformat": 4,
 "nbformat_minor": 5
}
